{
  "cells": [
    {
      "cell_type": "markdown",
      "metadata": {
        "id": "JMO8EId-X-RP"
      },
      "source": [
        "# Install Libraries"
      ]
    },
    {
      "cell_type": "code",
      "execution_count": null,
      "metadata": {
        "colab": {
          "base_uri": "https://localhost:8080/"
        },
        "id": "mfGv9Sd7AOV5",
        "outputId": "9cae74a3-049b-4d10-c2fc-f4c77e4228ff"
      },
      "outputs": [
        {
          "name": "stdout",
          "output_type": "stream",
          "text": [
            "Looking in indexes: https://pypi.org/simple, https://us-python.pkg.dev/colab-wheels/public/simple/\n",
            "Requirement already satisfied: tweepy in /usr/local/lib/python3.7/dist-packages (3.10.0)\n",
            "Requirement already satisfied: requests[socks]>=2.11.1 in /usr/local/lib/python3.7/dist-packages (from tweepy) (2.23.0)\n",
            "Requirement already satisfied: six>=1.10.0 in /usr/local/lib/python3.7/dist-packages (from tweepy) (1.15.0)\n",
            "Requirement already satisfied: requests-oauthlib>=0.7.0 in /usr/local/lib/python3.7/dist-packages (from tweepy) (1.3.1)\n",
            "Requirement already satisfied: oauthlib>=3.0.0 in /usr/local/lib/python3.7/dist-packages (from requests-oauthlib>=0.7.0->tweepy) (3.2.0)\n",
            "Requirement already satisfied: chardet<4,>=3.0.2 in /usr/local/lib/python3.7/dist-packages (from requests[socks]>=2.11.1->tweepy) (3.0.4)\n",
            "Requirement already satisfied: idna<3,>=2.5 in /usr/local/lib/python3.7/dist-packages (from requests[socks]>=2.11.1->tweepy) (2.10)\n",
            "Requirement already satisfied: urllib3!=1.25.0,!=1.25.1,<1.26,>=1.21.1 in /usr/local/lib/python3.7/dist-packages (from requests[socks]>=2.11.1->tweepy) (1.24.3)\n",
            "Requirement already satisfied: certifi>=2017.4.17 in /usr/local/lib/python3.7/dist-packages (from requests[socks]>=2.11.1->tweepy) (2022.6.15)\n",
            "Requirement already satisfied: PySocks!=1.5.7,>=1.5.6 in /usr/local/lib/python3.7/dist-packages (from requests[socks]>=2.11.1->tweepy) (1.7.1)\n"
          ]
        }
      ],
      "source": [
        "!pip install tweepy"
      ]
    },
    {
      "cell_type": "markdown",
      "metadata": {
        "id": "3kAoH5-cYCjJ"
      },
      "source": [
        "# Import Libraries"
      ]
    },
    {
      "cell_type": "code",
      "execution_count": null,
      "metadata": {
        "id": "YKxP-gO1Mwm9"
      },
      "outputs": [],
      "source": [
        "import tweepy\n",
        "import pandas as pd"
      ]
    },
    {
      "cell_type": "markdown",
      "metadata": {
        "id": "mXVjbZphYrYr"
      },
      "source": [
        "# Input ApiKey in Variable"
      ]
    },
    {
      "cell_type": "code",
      "execution_count": null,
      "metadata": {
        "id": "oEivnuyXM0pr"
      },
      "outputs": [],
      "source": [
        "api_key = 'nx40BoJXROpfmRa8280R9wfRQ'\n",
        "api_key_secret = '8Drx5rDqhlC3yhPOOEUelgSQvoECXJvtP33uHnKCUleb2hSaq9'\n",
        "access_token = \"1381969089967448066-n80ZZDH4e1Y3MohQWoxCfzn1pFRHjL\"\n",
        "access_token_secret = \"Y3o2f6utruaFaMvdpMlJ22BnN4eH7AkVJWybJXMUHE5ub\""
      ]
    },
    {
      "cell_type": "code",
      "execution_count": null,
      "metadata": {
        "id": "QQMDS5qlaGYi"
      },
      "outputs": [],
      "source": [
        "auth = tweepy.OAuthHandler(api_key, api_key_secret)\n",
        "auth.set_access_token(access_token, access_token_secret)\n",
        "api = tweepy.API(auth, wait_on_rate_limit=True)"
      ]
    },
    {
      "cell_type": "code",
      "execution_count": null,
      "metadata": {
        "id": "sbev0xRdr1C8"
      },
      "outputs": [],
      "source": [
        "import csv\n",
        "csvFile = open('craw_.csv', 'a')\n",
        "csvWriter = csv.writer(csvFile)\n",
        "username = []\n",
        "teks = []"
      ]
    },
    {
      "cell_type": "markdown",
      "metadata": {
        "id": "jXGRZap3ZKGw"
      },
      "source": [
        "# Api Search"
      ]
    },
    {
      "cell_type": "code",
      "execution_count": null,
      "metadata": {
        "colab": {
          "base_uri": "https://localhost:8080/"
        },
        "id": "sP1o7yjwgQjK",
        "outputId": "a0acfa6a-2011-4875-a1c0-3402fa0443a7"
      },
      "outputs": [
        {
          "name": "stdout",
          "output_type": "stream",
          "text": [
            "Asrarul Hayat RT @Sy1fa_Senandika: Mengenang kembali saat kampanye.. \n",
            "Apakah beliau masih ingat janjinya ini..\n",
            "Masih mau milih partainya eyang uti🤔\n",
            "\n",
            "#MyP…\n",
            "ellephantz_dip RT @AkungAruna: Butuhmu ngumpulin uang, tak peduli rakyat sudah berat dalam berjuang!\n",
            "#MyPertaminaUnfaedah \n",
            "#MyPertaminaUnfaedah https://t.…\n",
            "racunshopeeeee⚡ RT @uramatshing: Oversize hoodie polos zipper \n",
            "\n",
            "⭐ 4,8\n",
            "Harga 66.000 - 75.009\n",
            "Link https://t.co/dIhBEsbwxs\n",
            "\n",
            "Tag . #MalaysiaMaster2022 . #MyPe…\n",
            "Jatiduapuluh ApedegeXii @cobeh2021 PREMIUM itu jenis bbm apaan, Om. @cobeh2021 , sebab di spbu #mypertaminaUnfaedah tidak ada lagi tulisan… https://t.co/LGJytxfSAa\n",
            "portalmedia.id Pengamat Keamanan Siber Soroti MyPertamina: Parameter Pendaftaran Tidak Jelas\n",
            "\n",
            "Hmmm @pertamina @MyPertaminaID 🧐\n",
            "\n",
            "Ba… https://t.co/OwXzNFrMyb\n",
            "putri jingga WASPADA! Beredar Aplikasi MyPertamina Palsu https://t.co/Ord97wbw2k #MyPertaminaUnFaedah #MyPertamina… https://t.co/cQfw2N0fG8\n",
            "Mita Cemotz 🛒https://t.co/LALVLLO63l 💲 Rp19.900\n",
            "💦Setelan Anak Rombe Celana Bali Qu 🔝\n",
            "🌼#HARUTO 🌼#MyPertaminaUnfaedah 🌼… https://t.co/dIB7h9WmbY\n",
            "Fiiqalbii RT @TargetSuspend_: Buka play store \n",
            "Cari mypertamina \n",
            "Klik titik 3 di pojok kanan atas  Laporkan/tandai sebagai tidak pantas. \n",
            "Rating di b…\n",
            "Jember Network Pendaftaran MyPertamina sudah bisa diakses 3 kota di Jawa Timur ini, berikut penjelasan serta cara daftarnya.… https://t.co/gQPFfhKKWp\n",
            "Opsi.id Pakar mikroelektronika Institut Teknologi Bandung, Adi Indrayanto mengaku setuju dengan metode pendaftaran pengisia… https://t.co/2UeYDBzhek\n",
            "sumantri Puyeng banget mikirin nya beli bbm bakal di persulit di tambah pemerintah bikin peraturan seenaknya aja gak mikir d… https://t.co/pZujGoKeHl\n",
            "Sugeng Purwoto RT @TargetSuspend_: Buka play store \n",
            "Cari mypertamina \n",
            "Klik titik 3 di pojok kanan atas  Laporkan/tandai sebagai tidak pantas. \n",
            "Rating di b…\n"
          ]
        }
      ],
      "source": [
        "for tweet in tweepy.Cursor(api.search,q=\"MyPertaminaUnfaedah\",lang=\"id\", count=100).items():\n",
        "  print(tweet.user.name, tweet.text)\n",
        "  username.append(tweet.user.name)\n",
        "  teks.append(tweet.text.encode('utf-8'))\n",
        "  hasil = [username, teks]\n",
        "  csvWriter.writerow(hasil)\n",
        "\n"
      ]
    },
    {
      "cell_type": "markdown",
      "metadata": {
        "id": "16RL0h0OZOJ3"
      },
      "source": [
        "# To Dataframe"
      ]
    },
    {
      "cell_type": "code",
      "execution_count": null,
      "metadata": {
        "colab": {
          "base_uri": "https://localhost:8080/",
          "height": 425
        },
        "id": "NlvVw-eGZHde",
        "outputId": "ca26e714-51f0-4e42-cc02-1e4d8bf7f56e"
      },
      "outputs": [
        {
          "data": {
            "text/html": [
              "\n",
              "  <div id=\"df-acfa20ff-d96f-44d3-a220-4d88a5d38d02\">\n",
              "    <div class=\"colab-df-container\">\n",
              "      <div>\n",
              "<style scoped>\n",
              "    .dataframe tbody tr th:only-of-type {\n",
              "        vertical-align: middle;\n",
              "    }\n",
              "\n",
              "    .dataframe tbody tr th {\n",
              "        vertical-align: top;\n",
              "    }\n",
              "\n",
              "    .dataframe thead th {\n",
              "        text-align: right;\n",
              "    }\n",
              "</style>\n",
              "<table border=\"1\" class=\"dataframe\">\n",
              "  <thead>\n",
              "    <tr style=\"text-align: right;\">\n",
              "      <th></th>\n",
              "      <th>username</th>\n",
              "      <th>teks</th>\n",
              "    </tr>\n",
              "  </thead>\n",
              "  <tbody>\n",
              "    <tr>\n",
              "      <th>0</th>\n",
              "      <td>Asrarul Hayat</td>\n",
              "      <td>b'RT @Sy1fa_Senandika: Mengenang kembali saat ...</td>\n",
              "    </tr>\n",
              "    <tr>\n",
              "      <th>1</th>\n",
              "      <td>ellephantz_dip</td>\n",
              "      <td>b'RT @AkungAruna: Butuhmu ngumpulin uang, tak ...</td>\n",
              "    </tr>\n",
              "    <tr>\n",
              "      <th>2</th>\n",
              "      <td>racunshopeeeee⚡</td>\n",
              "      <td>b'RT @uramatshing: Oversize hoodie polos zippe...</td>\n",
              "    </tr>\n",
              "    <tr>\n",
              "      <th>3</th>\n",
              "      <td>Jatiduapuluh ApedegeXii</td>\n",
              "      <td>b'@cobeh2021 PREMIUM itu jenis bbm apaan, Om. ...</td>\n",
              "    </tr>\n",
              "    <tr>\n",
              "      <th>4</th>\n",
              "      <td>portalmedia.id</td>\n",
              "      <td>b'Pengamat Keamanan Siber Soroti MyPertamina: ...</td>\n",
              "    </tr>\n",
              "    <tr>\n",
              "      <th>5</th>\n",
              "      <td>putri jingga</td>\n",
              "      <td>b'WASPADA! Beredar Aplikasi MyPertamina Palsu ...</td>\n",
              "    </tr>\n",
              "    <tr>\n",
              "      <th>6</th>\n",
              "      <td>Mita Cemotz</td>\n",
              "      <td>b'\\xf0\\x9f\\x9b\\x92https://t.co/LALVLLO63l \\xf0...</td>\n",
              "    </tr>\n",
              "    <tr>\n",
              "      <th>7</th>\n",
              "      <td>Fiiqalbii</td>\n",
              "      <td>b'RT @TargetSuspend_: Buka play store \\nCari m...</td>\n",
              "    </tr>\n",
              "    <tr>\n",
              "      <th>8</th>\n",
              "      <td>Jember Network</td>\n",
              "      <td>b'Pendaftaran MyPertamina sudah bisa diakses 3...</td>\n",
              "    </tr>\n",
              "    <tr>\n",
              "      <th>9</th>\n",
              "      <td>Opsi.id</td>\n",
              "      <td>b'Pakar mikroelektronika Institut Teknologi Ba...</td>\n",
              "    </tr>\n",
              "    <tr>\n",
              "      <th>10</th>\n",
              "      <td>sumantri</td>\n",
              "      <td>b'Puyeng banget mikirin nya beli bbm bakal di ...</td>\n",
              "    </tr>\n",
              "    <tr>\n",
              "      <th>11</th>\n",
              "      <td>Sugeng Purwoto</td>\n",
              "      <td>b'RT @TargetSuspend_: Buka play store \\nCari m...</td>\n",
              "    </tr>\n",
              "  </tbody>\n",
              "</table>\n",
              "</div>\n",
              "      <button class=\"colab-df-convert\" onclick=\"convertToInteractive('df-acfa20ff-d96f-44d3-a220-4d88a5d38d02')\"\n",
              "              title=\"Convert this dataframe to an interactive table.\"\n",
              "              style=\"display:none;\">\n",
              "        \n",
              "  <svg xmlns=\"http://www.w3.org/2000/svg\" height=\"24px\"viewBox=\"0 0 24 24\"\n",
              "       width=\"24px\">\n",
              "    <path d=\"M0 0h24v24H0V0z\" fill=\"none\"/>\n",
              "    <path d=\"M18.56 5.44l.94 2.06.94-2.06 2.06-.94-2.06-.94-.94-2.06-.94 2.06-2.06.94zm-11 1L8.5 8.5l.94-2.06 2.06-.94-2.06-.94L8.5 2.5l-.94 2.06-2.06.94zm10 10l.94 2.06.94-2.06 2.06-.94-2.06-.94-.94-2.06-.94 2.06-2.06.94z\"/><path d=\"M17.41 7.96l-1.37-1.37c-.4-.4-.92-.59-1.43-.59-.52 0-1.04.2-1.43.59L10.3 9.45l-7.72 7.72c-.78.78-.78 2.05 0 2.83L4 21.41c.39.39.9.59 1.41.59.51 0 1.02-.2 1.41-.59l7.78-7.78 2.81-2.81c.8-.78.8-2.07 0-2.86zM5.41 20L4 18.59l7.72-7.72 1.47 1.35L5.41 20z\"/>\n",
              "  </svg>\n",
              "      </button>\n",
              "      \n",
              "  <style>\n",
              "    .colab-df-container {\n",
              "      display:flex;\n",
              "      flex-wrap:wrap;\n",
              "      gap: 12px;\n",
              "    }\n",
              "\n",
              "    .colab-df-convert {\n",
              "      background-color: #E8F0FE;\n",
              "      border: none;\n",
              "      border-radius: 50%;\n",
              "      cursor: pointer;\n",
              "      display: none;\n",
              "      fill: #1967D2;\n",
              "      height: 32px;\n",
              "      padding: 0 0 0 0;\n",
              "      width: 32px;\n",
              "    }\n",
              "\n",
              "    .colab-df-convert:hover {\n",
              "      background-color: #E2EBFA;\n",
              "      box-shadow: 0px 1px 2px rgba(60, 64, 67, 0.3), 0px 1px 3px 1px rgba(60, 64, 67, 0.15);\n",
              "      fill: #174EA6;\n",
              "    }\n",
              "\n",
              "    [theme=dark] .colab-df-convert {\n",
              "      background-color: #3B4455;\n",
              "      fill: #D2E3FC;\n",
              "    }\n",
              "\n",
              "    [theme=dark] .colab-df-convert:hover {\n",
              "      background-color: #434B5C;\n",
              "      box-shadow: 0px 1px 3px 1px rgba(0, 0, 0, 0.15);\n",
              "      filter: drop-shadow(0px 1px 2px rgba(0, 0, 0, 0.3));\n",
              "      fill: #FFFFFF;\n",
              "    }\n",
              "  </style>\n",
              "\n",
              "      <script>\n",
              "        const buttonEl =\n",
              "          document.querySelector('#df-acfa20ff-d96f-44d3-a220-4d88a5d38d02 button.colab-df-convert');\n",
              "        buttonEl.style.display =\n",
              "          google.colab.kernel.accessAllowed ? 'block' : 'none';\n",
              "\n",
              "        async function convertToInteractive(key) {\n",
              "          const element = document.querySelector('#df-acfa20ff-d96f-44d3-a220-4d88a5d38d02');\n",
              "          const dataTable =\n",
              "            await google.colab.kernel.invokeFunction('convertToInteractive',\n",
              "                                                     [key], {});\n",
              "          if (!dataTable) return;\n",
              "\n",
              "          const docLinkHtml = 'Like what you see? Visit the ' +\n",
              "            '<a target=\"_blank\" href=https://colab.research.google.com/notebooks/data_table.ipynb>data table notebook</a>'\n",
              "            + ' to learn more about interactive tables.';\n",
              "          element.innerHTML = '';\n",
              "          dataTable['output_type'] = 'display_data';\n",
              "          await google.colab.output.renderOutput(dataTable, element);\n",
              "          const docLink = document.createElement('div');\n",
              "          docLink.innerHTML = docLinkHtml;\n",
              "          element.appendChild(docLink);\n",
              "        }\n",
              "      </script>\n",
              "    </div>\n",
              "  </div>\n",
              "  "
            ],
            "text/plain": [
              "                   username                                               teks\n",
              "0             Asrarul Hayat  b'RT @Sy1fa_Senandika: Mengenang kembali saat ...\n",
              "1            ellephantz_dip  b'RT @AkungAruna: Butuhmu ngumpulin uang, tak ...\n",
              "2           racunshopeeeee⚡  b'RT @uramatshing: Oversize hoodie polos zippe...\n",
              "3   Jatiduapuluh ApedegeXii  b'@cobeh2021 PREMIUM itu jenis bbm apaan, Om. ...\n",
              "4            portalmedia.id  b'Pengamat Keamanan Siber Soroti MyPertamina: ...\n",
              "5              putri jingga  b'WASPADA! Beredar Aplikasi MyPertamina Palsu ...\n",
              "6               Mita Cemotz  b'\\xf0\\x9f\\x9b\\x92https://t.co/LALVLLO63l \\xf0...\n",
              "7                 Fiiqalbii  b'RT @TargetSuspend_: Buka play store \\nCari m...\n",
              "8            Jember Network  b'Pendaftaran MyPertamina sudah bisa diakses 3...\n",
              "9                   Opsi.id  b'Pakar mikroelektronika Institut Teknologi Ba...\n",
              "10                 sumantri  b'Puyeng banget mikirin nya beli bbm bakal di ...\n",
              "11           Sugeng Purwoto  b'RT @TargetSuspend_: Buka play store \\nCari m..."
            ]
          },
          "execution_count": 7,
          "metadata": {},
          "output_type": "execute_result"
        }
      ],
      "source": [
        "dicttweet ={'username':username, 'teks':teks}\n",
        "df = pd.DataFrame(dicttweet, columns=['username', 'teks'])\n",
        "df\n"
      ]
    },
    {
      "cell_type": "markdown",
      "metadata": {
        "id": "3Ml1oYuaZRUQ"
      },
      "source": [
        "# Save to CSV"
      ]
    },
    {
      "cell_type": "code",
      "execution_count": null,
      "metadata": {
        "id": "VrCkQWXqZ99F"
      },
      "outputs": [],
      "source": [
        "hasil = df['teks']\n",
        "hasil.to_csv('hasil_craw.csv', index=False, sep='\\t')"
      ]
    }
  ],
  "metadata": {
    "colab": {
      "collapsed_sections": [],
      "name": "1 CrawlingTwitterMyPertamina.ipynb",
      "provenance": []
    },
    "kernelspec": {
      "display_name": "Python 3",
      "name": "python3"
    },
    "language_info": {
      "name": "python"
    }
  },
  "nbformat": 4,
  "nbformat_minor": 0
}
